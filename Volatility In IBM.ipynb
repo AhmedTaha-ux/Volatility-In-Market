{
 "cells": [
  {
   "cell_type": "markdown",
   "id": "2e06e30c-183b-40df-a43a-61b2cb7ac795",
   "metadata": {},
   "source": [
    "# Volatility In IBM\n"
   ]
  },
  {
   "cell_type": "markdown",
   "id": "21872885-0b2e-4351-a22c-cbc181934f6d",
   "metadata": {},
   "source": [
    "This notebook analyzes the volatility of IBM stock data using a GARCH model. We'll fetch the data, preprocess it, and fit the model to make predictions."
   ]
  },
  {
   "cell_type": "markdown",
   "id": "58164873-bda0-49d0-a9b9-4287df645195",
   "metadata": {},
   "source": [
    "## Importing Libraries"
   ]
  },
  {
   "cell_type": "code",
   "execution_count": 47,
   "id": "ecfca693-a221-4613-9066-7b1b6ed2a547",
   "metadata": {},
   "outputs": [],
   "source": [
    "# Import necessary libraries\n",
    "import sqlite3\n",
    "import os\n",
    "\n",
    "import pandas as pd\n",
    "import requests\n",
    "from arch.univariate.base import ARCHModelResult\n",
    "from settings import DB_NAME, MODEL_DIRECTORY"
   ]
  },
  {
   "cell_type": "markdown",
   "id": "3ca12ff3-5d82-4f82-8d4c-108522a76696",
   "metadata": {},
   "source": [
    "# AlphaVantage API Class"
   ]
  },
  {
   "cell_type": "code",
   "execution_count": 11,
   "id": "3d8858c8-4ae5-4f02-8209-68a3d8e5700a",
   "metadata": {},
   "outputs": [
    {
     "name": "stdout",
     "output_type": "stream",
     "text": [
      "av type: <class 'alphavantageapi.AlphaVantageAPI'>\n"
     ]
    }
   ],
   "source": [
    "# Import the AlphaVantageAPI class\n",
    "from alphavantageapi import AlphaVantageAPI\n",
    "\n",
    "# Create an instance of the AlphaVantageAPI class\n",
    "av = AlphaVantageAPI()\n",
    "\n",
    "print(\"av type:\", type(av))"
   ]
  },
  {
   "cell_type": "code",
   "execution_count": 16,
   "id": "4e322e73-0d25-48ae-8a13-1f9cc3061fef",
   "metadata": {},
   "outputs": [
    {
     "name": "stdout",
     "output_type": "stream",
     "text": [
      "df_ibm shape: (6192, 5)\n"
     ]
    },
    {
     "data": {
      "text/html": [
       "<div>\n",
       "<style scoped>\n",
       "    .dataframe tbody tr th:only-of-type {\n",
       "        vertical-align: middle;\n",
       "    }\n",
       "\n",
       "    .dataframe tbody tr th {\n",
       "        vertical-align: top;\n",
       "    }\n",
       "\n",
       "    .dataframe thead th {\n",
       "        text-align: right;\n",
       "    }\n",
       "</style>\n",
       "<table border=\"1\" class=\"dataframe\">\n",
       "  <thead>\n",
       "    <tr style=\"text-align: right;\">\n",
       "      <th></th>\n",
       "      <th>open</th>\n",
       "      <th>high</th>\n",
       "      <th>low</th>\n",
       "      <th>close</th>\n",
       "      <th>volume</th>\n",
       "    </tr>\n",
       "    <tr>\n",
       "      <th>date</th>\n",
       "      <th></th>\n",
       "      <th></th>\n",
       "      <th></th>\n",
       "      <th></th>\n",
       "      <th></th>\n",
       "    </tr>\n",
       "  </thead>\n",
       "  <tbody>\n",
       "    <tr>\n",
       "      <th>2024-06-11</th>\n",
       "      <td>169.98</td>\n",
       "      <td>170.000</td>\n",
       "      <td>166.81</td>\n",
       "      <td>169.32</td>\n",
       "      <td>2951251.0</td>\n",
       "    </tr>\n",
       "    <tr>\n",
       "      <th>2024-06-10</th>\n",
       "      <td>169.55</td>\n",
       "      <td>170.760</td>\n",
       "      <td>168.88</td>\n",
       "      <td>170.38</td>\n",
       "      <td>3444684.0</td>\n",
       "    </tr>\n",
       "    <tr>\n",
       "      <th>2024-06-07</th>\n",
       "      <td>168.18</td>\n",
       "      <td>171.305</td>\n",
       "      <td>168.06</td>\n",
       "      <td>170.01</td>\n",
       "      <td>3475495.0</td>\n",
       "    </tr>\n",
       "    <tr>\n",
       "      <th>2024-06-06</th>\n",
       "      <td>167.38</td>\n",
       "      <td>168.440</td>\n",
       "      <td>166.80</td>\n",
       "      <td>168.20</td>\n",
       "      <td>2207263.0</td>\n",
       "    </tr>\n",
       "    <tr>\n",
       "      <th>2024-06-05</th>\n",
       "      <td>166.41</td>\n",
       "      <td>167.790</td>\n",
       "      <td>165.78</td>\n",
       "      <td>167.38</td>\n",
       "      <td>3049377.0</td>\n",
       "    </tr>\n",
       "  </tbody>\n",
       "</table>\n",
       "</div>"
      ],
      "text/plain": [
       "              open     high     low   close     volume\n",
       "date                                                  \n",
       "2024-06-11  169.98  170.000  166.81  169.32  2951251.0\n",
       "2024-06-10  169.55  170.760  168.88  170.38  3444684.0\n",
       "2024-06-07  168.18  171.305  168.06  170.01  3475495.0\n",
       "2024-06-06  167.38  168.440  166.80  168.20  2207263.0\n",
       "2024-06-05  166.41  167.790  165.78  167.38  3049377.0"
      ]
     },
     "execution_count": 16,
     "metadata": {},
     "output_type": "execute_result"
    }
   ],
   "source": [
    "# Define the stock symbol we want to retrieve data for\n",
    "symbol = 'IBM'\n",
    "\n",
    "# Use the AlphaVantageAPI object (av) to get daily time series data for the specified symbol\n",
    "df_ibm = av.get_daily(symbol=symbol)\n",
    "\n",
    "print(\"df_ibm shape:\", df_ibm.shape)\n",
    "\n",
    "df_ibm.head()"
   ]
  },
  {
   "cell_type": "code",
   "execution_count": 8,
   "id": "0b96f6e7-db7c-423b-b563-427ae678266e",
   "metadata": {},
   "outputs": [],
   "source": [
    "# Check if df_ibm is a pandas DataFrame\n",
    "assert isinstance(df_ibm, pd.DataFrame)\n",
    "\n",
    "# Ensure that the DataFrame has 5 columns\n",
    "assert df_ibm.shape[1] == 5\n",
    "\n",
    "# Verify that the index is a DatetimeIndex\n",
    "assert isinstance(df_ibm.index, pd.DatetimeIndex)\n",
    "\n",
    "# Confirm that the index name is \"date\"\n",
    "assert df_ibm.index.name == \"date\"\n",
    "\n",
    "# Check if the column names match the expected list\n",
    "assert df_ibm.columns.to_list() == ['open', 'high', 'low', 'close', 'volume']\n",
    "\n",
    "# Validate that all columns have float data types\n",
    "assert all(df_ibm.dtypes == float)"
   ]
  },
  {
   "cell_type": "markdown",
   "id": "7f8062df-f383-435d-bdef-b44170ec0d5b",
   "metadata": {},
   "source": [
    "# SQL Repository Class"
   ]
  },
  {
   "cell_type": "markdown",
   "id": "6cdd3e63-c077-4f40-9c80-f940db002b1c",
   "metadata": {},
   "source": [
    "To optimize our application's performance, we shouldn't retrieve data from the AlphaVantage API each time we need to explore or model our data. Instead, we'll store the data in a database. Given that our data is highly structured, with each DataFrame from AlphaVantage consistently containing the same five columns, a SQL database is an ideal choice.\n",
    "\n",
    "We'll use SQLite for this purpose. For consistency, the database will always have the same name, which is specified in our .env file."
   ]
  },
  {
   "cell_type": "code",
   "execution_count": 10,
   "id": "93dc81b1-6fef-40a7-a510-bfac54f475ce",
   "metadata": {},
   "outputs": [
    {
     "name": "stdout",
     "output_type": "stream",
     "text": [
      "connection type: <class 'sqlite3.Connection'>\n"
     ]
    }
   ],
   "source": [
    "connection = sqlite3.connect(database=DB_NAME, check_same_thread=False)\n",
    "\n",
    "print(\"connection type:\", type(connection))"
   ]
  },
  {
   "cell_type": "code",
   "execution_count": 12,
   "id": "c2e8e9fe-d4d0-4cac-8043-69ff85eb83fa",
   "metadata": {},
   "outputs": [],
   "source": [
    "# Import the SQLRepository class\n",
    "from sqlrepository import SQLRepository\n",
    "\n",
    "# Create an instance of the SQLRepository class\n",
    "repo = SQLRepository(connection=connection)\n",
    "\n",
    "# Check if the repo object has a \"connection\" attribute\n",
    "assert hasattr(repo, \"connection\")\n",
    "\n",
    "# Verify that the value of the \"connection\" attribute is of type sqlite3.Connection\n",
    "assert isinstance(repo.connection, sqlite3.Connection)"
   ]
  },
  {
   "cell_type": "code",
   "execution_count": 15,
   "id": "8c1e5014-abe3-4f86-ad47-8c3e2e95d9e9",
   "metadata": {},
   "outputs": [
    {
     "name": "stdout",
     "output_type": "stream",
     "text": [
      "{'transaction_successful': True, 'records_inserted': 6192}\n"
     ]
    }
   ],
   "source": [
    "response = repo.insert_table(table_name=symbol, records=df_ibm, if_exists=\"replace\")\n",
    "print(response)\n",
    "\n",
    "# Verify that the response variable holds a dictionary\n",
    "assert isinstance(response, dict)\n",
    "\n",
    "# Check if the response dictionary contains the expected keys\n",
    "assert sorted(list(response.keys())) == [\"records_inserted\", \"transaction_successful\"]"
   ]
  },
  {
   "cell_type": "code",
   "execution_count": 18,
   "id": "f5593233-d0bc-41b9-86e8-f7419b8b483d",
   "metadata": {},
   "outputs": [
    {
     "name": "stdout",
     "output_type": "stream",
     "text": [
      "df_IBM shape: (4000, 5)\n",
      "\n",
      "<class 'pandas.core.frame.DataFrame'>\n",
      "DatetimeIndex: 4000 entries, 2024-06-11 to 2008-07-22\n",
      "Data columns (total 5 columns):\n",
      " #   Column  Non-Null Count  Dtype  \n",
      "---  ------  --------------  -----  \n",
      " 0   open    4000 non-null   float64\n",
      " 1   high    4000 non-null   float64\n",
      " 2   low     4000 non-null   float64\n",
      " 3   close   4000 non-null   float64\n",
      " 4   volume  4000 non-null   float64\n",
      "dtypes: float64(5)\n",
      "memory usage: 187.5 KB\n",
      "None\n"
     ]
    },
    {
     "data": {
      "text/html": [
       "<div>\n",
       "<style scoped>\n",
       "    .dataframe tbody tr th:only-of-type {\n",
       "        vertical-align: middle;\n",
       "    }\n",
       "\n",
       "    .dataframe tbody tr th {\n",
       "        vertical-align: top;\n",
       "    }\n",
       "\n",
       "    .dataframe thead th {\n",
       "        text-align: right;\n",
       "    }\n",
       "</style>\n",
       "<table border=\"1\" class=\"dataframe\">\n",
       "  <thead>\n",
       "    <tr style=\"text-align: right;\">\n",
       "      <th></th>\n",
       "      <th>open</th>\n",
       "      <th>high</th>\n",
       "      <th>low</th>\n",
       "      <th>close</th>\n",
       "      <th>volume</th>\n",
       "    </tr>\n",
       "    <tr>\n",
       "      <th>date</th>\n",
       "      <th></th>\n",
       "      <th></th>\n",
       "      <th></th>\n",
       "      <th></th>\n",
       "      <th></th>\n",
       "    </tr>\n",
       "  </thead>\n",
       "  <tbody>\n",
       "    <tr>\n",
       "      <th>2024-06-11</th>\n",
       "      <td>169.98</td>\n",
       "      <td>170.000</td>\n",
       "      <td>166.81</td>\n",
       "      <td>169.32</td>\n",
       "      <td>2951251.0</td>\n",
       "    </tr>\n",
       "    <tr>\n",
       "      <th>2024-06-10</th>\n",
       "      <td>169.55</td>\n",
       "      <td>170.760</td>\n",
       "      <td>168.88</td>\n",
       "      <td>170.38</td>\n",
       "      <td>3444684.0</td>\n",
       "    </tr>\n",
       "    <tr>\n",
       "      <th>2024-06-07</th>\n",
       "      <td>168.18</td>\n",
       "      <td>171.305</td>\n",
       "      <td>168.06</td>\n",
       "      <td>170.01</td>\n",
       "      <td>3475495.0</td>\n",
       "    </tr>\n",
       "    <tr>\n",
       "      <th>2024-06-06</th>\n",
       "      <td>167.38</td>\n",
       "      <td>168.440</td>\n",
       "      <td>166.80</td>\n",
       "      <td>168.20</td>\n",
       "      <td>2207263.0</td>\n",
       "    </tr>\n",
       "    <tr>\n",
       "      <th>2024-06-05</th>\n",
       "      <td>166.41</td>\n",
       "      <td>167.790</td>\n",
       "      <td>165.78</td>\n",
       "      <td>167.38</td>\n",
       "      <td>3049377.0</td>\n",
       "    </tr>\n",
       "  </tbody>\n",
       "</table>\n",
       "</div>"
      ],
      "text/plain": [
       "              open     high     low   close     volume\n",
       "date                                                  \n",
       "2024-06-11  169.98  170.000  166.81  169.32  2951251.0\n",
       "2024-06-10  169.55  170.760  168.88  170.38  3444684.0\n",
       "2024-06-07  168.18  171.305  168.06  170.01  3475495.0\n",
       "2024-06-06  167.38  168.440  166.80  168.20  2207263.0\n",
       "2024-06-05  166.41  167.790  165.78  167.38  3049377.0"
      ]
     },
     "execution_count": 18,
     "metadata": {},
     "output_type": "execute_result"
    }
   ],
   "source": [
    "df_IBM = repo.read_table(table_name=symbol, limit=4000)\n",
    "\n",
    "# Check if df_ibm is a pandas DataFrame\n",
    "assert isinstance(df_IBM, pd.DataFrame)\n",
    "\n",
    "# Ensure that the DataFrame has 5 columns and 4000 rows\n",
    "assert df_IBM.shape == (4000, 5)\n",
    "\n",
    "# Verify that the index is a DatetimeIndex\n",
    "assert isinstance(df_IBM.index, pd.DatetimeIndex)\n",
    "\n",
    "# Confirm that the index name is \"date\"\n",
    "assert df_IBM.index.name == \"date\"\n",
    "\n",
    "# Check if the column names match the expected list\n",
    "assert df_IBM.columns.to_list() == ['open', 'high', 'low', 'close', 'volume']\n",
    "\n",
    "# Validate that all columns have float data types\n",
    "assert all(df_IBM.dtypes == float)\n",
    "\n",
    "# Print `df_IBM` info\n",
    "print(\"df_IBM shape:\", df_IBM.shape)\n",
    "print()\n",
    "print(df_IBM.info())\n",
    "df_IBM.head()"
   ]
  },
  {
   "cell_type": "markdown",
   "id": "3be4d5ef-bc85-4901-906c-dd65edeb1f19",
   "metadata": {},
   "source": [
    "# Model Class"
   ]
  },
  {
   "cell_type": "code",
   "execution_count": 23,
   "id": "fbb9da96-2c10-43b2-bced-8f2035dc07b2",
   "metadata": {},
   "outputs": [],
   "source": [
    "# Import the GarchModel class\n",
    "from model import GarchModel\n",
    "\n",
    "# Create an instance of the GarchModel class\n",
    "model = GarchModel(symbol=symbol ,repo=repo, model_directory=MODEL_DIRECTORY, use_new_data=False)\n",
    "\n",
    "# Verifies that the model's attributes are correctly set\n",
    "assert model.symbol == symbol\n",
    "assert model.repo == repo\n",
    "assert not model.use_new_data\n",
    "assert model.model_directory == MODEL_DIRECTORY\n",
    "\n",
    "# Check that model doesn't have `data` attribute yet\n",
    "assert not hasattr(model, \"data\")"
   ]
  },
  {
   "cell_type": "code",
   "execution_count": 25,
   "id": "e8d12146-ce1c-4663-a8db-ce42c6944741",
   "metadata": {},
   "outputs": [
    {
     "data": {
      "text/plain": [
       "date\n",
       "2008-07-22    1.041505\n",
       "2008-07-23   -0.369231\n",
       "2008-07-24    0.370599\n",
       "2008-07-25   -1.130769\n",
       "2008-07-28   -1.773905\n",
       "Name: return, dtype: float64"
      ]
     },
     "execution_count": 25,
     "metadata": {},
     "output_type": "execute_result"
    }
   ],
   "source": [
    "# Wrangle data\n",
    "model.wrangle_data(n_observations=4000)\n",
    "\n",
    "# Check if the model object has a \"data\" attribute\n",
    "assert hasattr(model, \"data\")\n",
    "\n",
    "# Verify that the \"data\" attribute holds a pandas Series object\n",
    "assert isinstance(model.data, pd.Series)\n",
    "\n",
    "# Ensure the data Series has the expected shape (4000 rows)\n",
    "assert model.data.shape == (4000,)\n",
    "\n",
    "model.data.head()"
   ]
  },
  {
   "cell_type": "code",
   "execution_count": 28,
   "id": "6e833a60-d1f2-45cc-b065-737880614821",
   "metadata": {},
   "outputs": [
    {
     "data": {
      "text/html": [
       "<table class=\"simpletable\">\n",
       "<caption>Constant Mean - GARCH Model Results</caption>\n",
       "<tr>\n",
       "  <th>Dep. Variable:</th>       <td>return</td>       <th>  R-squared:         </th>  <td>   0.000</td> \n",
       "</tr>\n",
       "<tr>\n",
       "  <th>Mean Model:</th>       <td>Constant Mean</td>   <th>  Adj. R-squared:    </th>  <td>   0.000</td> \n",
       "</tr>\n",
       "<tr>\n",
       "  <th>Vol Model:</th>            <td>GARCH</td>       <th>  Log-Likelihood:    </th> <td>  -6914.90</td>\n",
       "</tr>\n",
       "<tr>\n",
       "  <th>Distribution:</th>        <td>Normal</td>       <th>  AIC:               </th> <td>   13837.8</td>\n",
       "</tr>\n",
       "<tr>\n",
       "  <th>Method:</th>        <td>Maximum Likelihood</td> <th>  BIC:               </th> <td>   13863.0</td>\n",
       "</tr>\n",
       "<tr>\n",
       "  <th></th>                        <td></td>          <th>  No. Observations:  </th>    <td>4000</td>   \n",
       "</tr>\n",
       "<tr>\n",
       "  <th>Date:</th>           <td>Wed, Jun 12 2024</td>  <th>  Df Residuals:      </th>    <td>3999</td>   \n",
       "</tr>\n",
       "<tr>\n",
       "  <th>Time:</th>               <td>16:26:09</td>      <th>  Df Model:          </th>      <td>1</td>    \n",
       "</tr>\n",
       "</table>\n",
       "<table class=\"simpletable\">\n",
       "<caption>Mean Model</caption>\n",
       "<tr>\n",
       "   <td></td>     <th>coef</th>     <th>std err</th>      <th>t</th>       <th>P>|t|</th>      <th>95.0% Conf. Int.</th>   \n",
       "</tr>\n",
       "<tr>\n",
       "  <th>mu</th> <td>    0.0255</td> <td>2.175e-02</td> <td>    1.173</td> <td>    0.241</td> <td>[-1.711e-02,6.813e-02]</td>\n",
       "</tr>\n",
       "</table>\n",
       "<table class=\"simpletable\">\n",
       "<caption>Volatility Model</caption>\n",
       "<tr>\n",
       "      <td></td>        <th>coef</th>     <th>std err</th>      <th>t</th>        <th>P>|t|</th>    <th>95.0% Conf. Int.</th>  \n",
       "</tr>\n",
       "<tr>\n",
       "  <th>omega</th>    <td>    0.1494</td> <td>4.026e-02</td> <td>    3.712</td>  <td>2.060e-04</td> <td>[7.051e-02,  0.228]</td>\n",
       "</tr>\n",
       "<tr>\n",
       "  <th>alpha[1]</th> <td>    0.0969</td> <td>2.371e-02</td> <td>    4.085</td>  <td>4.402e-05</td> <td>[5.039e-02,  0.143]</td>\n",
       "</tr>\n",
       "<tr>\n",
       "  <th>beta[1]</th>  <td>    0.8342</td> <td>3.328e-02</td> <td>   25.068</td> <td>1.106e-138</td>  <td>[  0.769,  0.899]</td> \n",
       "</tr>\n",
       "</table><br/><br/>Covariance estimator: robust"
      ],
      "text/latex": [
       "\\begin{center}\n",
       "\\begin{tabular}{lclc}\n",
       "\\toprule\n",
       "\\textbf{Dep. Variable:} &       return       & \\textbf{  R-squared:         } &     0.000   \\\\\n",
       "\\textbf{Mean Model:}    &   Constant Mean    & \\textbf{  Adj. R-squared:    } &     0.000   \\\\\n",
       "\\textbf{Vol Model:}     &       GARCH        & \\textbf{  Log-Likelihood:    } &   -6914.90  \\\\\n",
       "\\textbf{Distribution:}  &       Normal       & \\textbf{  AIC:               } &    13837.8  \\\\\n",
       "\\textbf{Method:}        & Maximum Likelihood & \\textbf{  BIC:               } &    13863.0  \\\\\n",
       "\\textbf{}               &                    & \\textbf{  No. Observations:  } &    4000     \\\\\n",
       "\\textbf{Date:}          &  Wed, Jun 12 2024  & \\textbf{  Df Residuals:      } &    3999     \\\\\n",
       "\\textbf{Time:}          &      16:26:09      & \\textbf{  Df Model:          } &     1       \\\\\n",
       "\\bottomrule\n",
       "\\end{tabular}\n",
       "\\begin{tabular}{lccccc}\n",
       "            & \\textbf{coef} & \\textbf{std err} & \\textbf{t} & \\textbf{P$> |$t$|$} & \\textbf{95.0\\% Conf. Int.}  \\\\\n",
       "\\midrule\n",
       "\\textbf{mu} &       0.0255  &    2.175e-02     &     1.173  &          0.241       &   [-1.711e-02,6.813e-02]    \\\\\n",
       "                  & \\textbf{coef} & \\textbf{std err} & \\textbf{t} & \\textbf{P$> |$t$|$} & \\textbf{95.0\\% Conf. Int.}  \\\\\n",
       "\\midrule\n",
       "\\textbf{omega}    &       0.1494  &    4.026e-02     &     3.712  &      2.060e-04       &    [7.051e-02,  0.228]      \\\\\n",
       "\\textbf{alpha[1]} &       0.0969  &    2.371e-02     &     4.085  &      4.402e-05       &    [5.039e-02,  0.143]      \\\\\n",
       "\\textbf{beta[1]}  &       0.8342  &    3.328e-02     &    25.068  &      1.106e-138      &     [  0.769,  0.899]       \\\\\n",
       "\\bottomrule\n",
       "\\end{tabular}\n",
       "%\\caption{Constant Mean - GARCH Model Results}\n",
       "\\end{center}\n",
       "\n",
       "Covariance estimator: robust"
      ],
      "text/plain": [
       "<class 'statsmodels.iolib.summary.Summary'>\n",
       "\"\"\"\n",
       "                     Constant Mean - GARCH Model Results                      \n",
       "==============================================================================\n",
       "Dep. Variable:                 return   R-squared:                       0.000\n",
       "Mean Model:             Constant Mean   Adj. R-squared:                  0.000\n",
       "Vol Model:                      GARCH   Log-Likelihood:               -6914.90\n",
       "Distribution:                  Normal   AIC:                           13837.8\n",
       "Method:            Maximum Likelihood   BIC:                           13863.0\n",
       "                                        No. Observations:                 4000\n",
       "Date:                Wed, Jun 12 2024   Df Residuals:                     3999\n",
       "Time:                        16:26:09   Df Model:                            1\n",
       "                                  Mean Model                                 \n",
       "=============================================================================\n",
       "                 coef    std err          t      P>|t|       95.0% Conf. Int.\n",
       "-----------------------------------------------------------------------------\n",
       "mu             0.0255  2.175e-02      1.173      0.241 [-1.711e-02,6.813e-02]\n",
       "                             Volatility Model                             \n",
       "==========================================================================\n",
       "                 coef    std err          t      P>|t|    95.0% Conf. Int.\n",
       "--------------------------------------------------------------------------\n",
       "omega          0.1494  4.026e-02      3.712  2.060e-04 [7.051e-02,  0.228]\n",
       "alpha[1]       0.0969  2.371e-02      4.085  4.402e-05 [5.039e-02,  0.143]\n",
       "beta[1]        0.8342  3.328e-02     25.068 1.106e-138   [  0.769,  0.899]\n",
       "==========================================================================\n",
       "\n",
       "Covariance estimator: robust\n",
       "\"\"\""
      ]
     },
     "execution_count": 28,
     "metadata": {},
     "output_type": "execute_result"
    }
   ],
   "source": [
    "# Train the GARCH model with parameters p=1 and q=1\n",
    "model.fit(p=1, q=1)\n",
    "\n",
    "# Ensure model has a \"model\" attribute after training\n",
    "assert hasattr(model, \"model\")\n",
    "\n",
    "# Verify the trained model is of type ARCHModelResult\n",
    "assert isinstance(model.model, ARCHModelResult)\n",
    "\n",
    "# Check if the model parameter names are as expected\n",
    "assert model.model.params.index.tolist() == [\"mu\", \"omega\", \"alpha[1]\", \"beta[1]\"]\n",
    "\n",
    "# Print a summary of the trained GARCH model\n",
    "model.model.summary()"
   ]
  },
  {
   "cell_type": "code",
   "execution_count": 29,
   "id": "1bf10071-ee9d-4ea9-a604-f956b3adf48d",
   "metadata": {},
   "outputs": [
    {
     "data": {
      "text/plain": [
       "{'2024-06-12T00:00:00': 1.1390845320453762,\n",
       " '2024-06-13T00:00:00': 1.1650803585321614,\n",
       " '2024-06-14T00:00:00': 1.1887719487589206,\n",
       " '2024-06-17T00:00:00': 1.2104123865448637,\n",
       " '2024-06-18T00:00:00': 1.2302178002464368}"
      ]
     },
     "execution_count": 29,
     "metadata": {},
     "output_type": "execute_result"
    }
   ],
   "source": [
    "# Predict volatility for the next 5 days (horizon=5) using the trained model in model\n",
    "prediction = model.predict_volatility(horizon=5)\n",
    "\n",
    "# Verify the prediction is returned as a dictionary\n",
    "assert isinstance(prediction, dict)\n",
    "\n",
    "# Ensure all keys in the prediction dictionary are strings\n",
    "assert all(isinstance(k, str) for k in prediction.keys())\n",
    "\n",
    "# Ensure all values in the prediction dictionary are floats\n",
    "assert all(isinstance(v, float) for v in prediction.values())\n",
    "\n",
    "prediction"
   ]
  },
  {
   "cell_type": "code",
   "execution_count": 33,
   "id": "fdd80a30-2338-46de-8ae9-91a0e34098ca",
   "metadata": {},
   "outputs": [
    {
     "data": {
      "text/plain": [
       "'models\\\\2024-06-12T16_31_13.852610_IBM.pkl'"
      ]
     },
     "execution_count": 33,
     "metadata": {},
     "output_type": "execute_result"
    }
   ],
   "source": [
    "# Save the trained model\n",
    "filename = model.dump()\n",
    "\n",
    "# Verify the filename is a string\n",
    "assert isinstance(filename, str)\n",
    "\n",
    "# Check if the model's symbol is present in the filename\n",
    "assert model.symbol in filename\n",
    "\n",
    "# Ensure the saved model file exists at the specified location\n",
    "assert os.path.exists(filename)\n",
    "\n",
    "# Print the filename (optional)\n",
    "filename"
   ]
  },
  {
   "cell_type": "code",
   "execution_count": 34,
   "id": "aa99b988-9690-4738-b343-93319cdfaf0d",
   "metadata": {},
   "outputs": [
    {
     "data": {
      "text/html": [
       "<table class=\"simpletable\">\n",
       "<caption>Constant Mean - GARCH Model Results</caption>\n",
       "<tr>\n",
       "  <th>Dep. Variable:</th>       <td>return</td>       <th>  R-squared:         </th>  <td>   0.000</td> \n",
       "</tr>\n",
       "<tr>\n",
       "  <th>Mean Model:</th>       <td>Constant Mean</td>   <th>  Adj. R-squared:    </th>  <td>   0.000</td> \n",
       "</tr>\n",
       "<tr>\n",
       "  <th>Vol Model:</th>            <td>GARCH</td>       <th>  Log-Likelihood:    </th> <td>  -6914.90</td>\n",
       "</tr>\n",
       "<tr>\n",
       "  <th>Distribution:</th>        <td>Normal</td>       <th>  AIC:               </th> <td>   13837.8</td>\n",
       "</tr>\n",
       "<tr>\n",
       "  <th>Method:</th>        <td>Maximum Likelihood</td> <th>  BIC:               </th> <td>   13863.0</td>\n",
       "</tr>\n",
       "<tr>\n",
       "  <th></th>                        <td></td>          <th>  No. Observations:  </th>    <td>4000</td>   \n",
       "</tr>\n",
       "<tr>\n",
       "  <th>Date:</th>           <td>Wed, Jun 12 2024</td>  <th>  Df Residuals:      </th>    <td>3999</td>   \n",
       "</tr>\n",
       "<tr>\n",
       "  <th>Time:</th>               <td>16:26:09</td>      <th>  Df Model:          </th>      <td>1</td>    \n",
       "</tr>\n",
       "</table>\n",
       "<table class=\"simpletable\">\n",
       "<caption>Mean Model</caption>\n",
       "<tr>\n",
       "   <td></td>     <th>coef</th>     <th>std err</th>      <th>t</th>       <th>P>|t|</th>      <th>95.0% Conf. Int.</th>   \n",
       "</tr>\n",
       "<tr>\n",
       "  <th>mu</th> <td>    0.0255</td> <td>2.175e-02</td> <td>    1.173</td> <td>    0.241</td> <td>[-1.711e-02,6.813e-02]</td>\n",
       "</tr>\n",
       "</table>\n",
       "<table class=\"simpletable\">\n",
       "<caption>Volatility Model</caption>\n",
       "<tr>\n",
       "      <td></td>        <th>coef</th>     <th>std err</th>      <th>t</th>        <th>P>|t|</th>    <th>95.0% Conf. Int.</th>  \n",
       "</tr>\n",
       "<tr>\n",
       "  <th>omega</th>    <td>    0.1494</td> <td>4.026e-02</td> <td>    3.712</td>  <td>2.060e-04</td> <td>[7.051e-02,  0.228]</td>\n",
       "</tr>\n",
       "<tr>\n",
       "  <th>alpha[1]</th> <td>    0.0969</td> <td>2.371e-02</td> <td>    4.085</td>  <td>4.402e-05</td> <td>[5.039e-02,  0.143]</td>\n",
       "</tr>\n",
       "<tr>\n",
       "  <th>beta[1]</th>  <td>    0.8342</td> <td>3.328e-02</td> <td>   25.068</td> <td>1.106e-138</td>  <td>[  0.769,  0.899]</td> \n",
       "</tr>\n",
       "</table><br/><br/>Covariance estimator: robust"
      ],
      "text/latex": [
       "\\begin{center}\n",
       "\\begin{tabular}{lclc}\n",
       "\\toprule\n",
       "\\textbf{Dep. Variable:} &       return       & \\textbf{  R-squared:         } &     0.000   \\\\\n",
       "\\textbf{Mean Model:}    &   Constant Mean    & \\textbf{  Adj. R-squared:    } &     0.000   \\\\\n",
       "\\textbf{Vol Model:}     &       GARCH        & \\textbf{  Log-Likelihood:    } &   -6914.90  \\\\\n",
       "\\textbf{Distribution:}  &       Normal       & \\textbf{  AIC:               } &    13837.8  \\\\\n",
       "\\textbf{Method:}        & Maximum Likelihood & \\textbf{  BIC:               } &    13863.0  \\\\\n",
       "\\textbf{}               &                    & \\textbf{  No. Observations:  } &    4000     \\\\\n",
       "\\textbf{Date:}          &  Wed, Jun 12 2024  & \\textbf{  Df Residuals:      } &    3999     \\\\\n",
       "\\textbf{Time:}          &      16:26:09      & \\textbf{  Df Model:          } &     1       \\\\\n",
       "\\bottomrule\n",
       "\\end{tabular}\n",
       "\\begin{tabular}{lccccc}\n",
       "            & \\textbf{coef} & \\textbf{std err} & \\textbf{t} & \\textbf{P$> |$t$|$} & \\textbf{95.0\\% Conf. Int.}  \\\\\n",
       "\\midrule\n",
       "\\textbf{mu} &       0.0255  &    2.175e-02     &     1.173  &          0.241       &   [-1.711e-02,6.813e-02]    \\\\\n",
       "                  & \\textbf{coef} & \\textbf{std err} & \\textbf{t} & \\textbf{P$> |$t$|$} & \\textbf{95.0\\% Conf. Int.}  \\\\\n",
       "\\midrule\n",
       "\\textbf{omega}    &       0.1494  &    4.026e-02     &     3.712  &      2.060e-04       &    [7.051e-02,  0.228]      \\\\\n",
       "\\textbf{alpha[1]} &       0.0969  &    2.371e-02     &     4.085  &      4.402e-05       &    [5.039e-02,  0.143]      \\\\\n",
       "\\textbf{beta[1]}  &       0.8342  &    3.328e-02     &    25.068  &      1.106e-138      &     [  0.769,  0.899]       \\\\\n",
       "\\bottomrule\n",
       "\\end{tabular}\n",
       "%\\caption{Constant Mean - GARCH Model Results}\n",
       "\\end{center}\n",
       "\n",
       "Covariance estimator: robust"
      ],
      "text/plain": [
       "<class 'statsmodels.iolib.summary.Summary'>\n",
       "\"\"\"\n",
       "                     Constant Mean - GARCH Model Results                      \n",
       "==============================================================================\n",
       "Dep. Variable:                 return   R-squared:                       0.000\n",
       "Mean Model:             Constant Mean   Adj. R-squared:                  0.000\n",
       "Vol Model:                      GARCH   Log-Likelihood:               -6914.90\n",
       "Distribution:                  Normal   AIC:                           13837.8\n",
       "Method:            Maximum Likelihood   BIC:                           13863.0\n",
       "                                        No. Observations:                 4000\n",
       "Date:                Wed, Jun 12 2024   Df Residuals:                     3999\n",
       "Time:                        16:26:09   Df Model:                            1\n",
       "                                  Mean Model                                 \n",
       "=============================================================================\n",
       "                 coef    std err          t      P>|t|       95.0% Conf. Int.\n",
       "-----------------------------------------------------------------------------\n",
       "mu             0.0255  2.175e-02      1.173      0.241 [-1.711e-02,6.813e-02]\n",
       "                             Volatility Model                             \n",
       "==========================================================================\n",
       "                 coef    std err          t      P>|t|    95.0% Conf. Int.\n",
       "--------------------------------------------------------------------------\n",
       "omega          0.1494  4.026e-02      3.712  2.060e-04 [7.051e-02,  0.228]\n",
       "alpha[1]       0.0969  2.371e-02      4.085  4.402e-05 [5.039e-02,  0.143]\n",
       "beta[1]        0.8342  3.328e-02     25.068 1.106e-138   [  0.769,  0.899]\n",
       "==========================================================================\n",
       "\n",
       "Covariance estimator: robust\n",
       "\"\"\""
      ]
     },
     "execution_count": 34,
     "metadata": {},
     "output_type": "execute_result"
    }
   ],
   "source": [
    "model.load()\n",
    "\n",
    "model.model.summary()"
   ]
  },
  {
   "cell_type": "markdown",
   "id": "938c0536-8af8-4026-9f41-21b287f41416",
   "metadata": {},
   "source": [
    "# Main Class"
   ]
  },
  {
   "cell_type": "markdown",
   "id": "bc62abd2-5ea1-45d4-88af-9f8d4846c6c3",
   "metadata": {},
   "source": [
    "interactive applications using FastAPI app"
   ]
  },
  {
   "cell_type": "markdown",
   "id": "7ab9b167-3109-4242-b5fd-96d5caa53fc3",
   "metadata": {},
   "source": [
    "## \"/fit\" Path"
   ]
  },
  {
   "cell_type": "markdown",
   "id": "6cf4a29f-828b-4ee1-9914-d6431c4be8e5",
   "metadata": {},
   "source": [
    "Our first endpoint will allow users to fit a model to stock data by making a POST request to our server. Users can choose to use new data from AlphaVantage or existing data from our database. Upon making a request, users will receive a response indicating whether the operation was successful or if there was an error.\n",
    "\n",
    "A crucial aspect of building an API is ensuring that users provide the correct parameters. Incorrect parameters can cause the app to crash. FastAPI, in combination with the pydantic library, excels at verifying that each request contains the appropriate parameters and data types. This is achieved through the use of specially defined data classes. For our \"/fit\" endpoint, which takes user input and returns a response, we need to define two classes: one for the input and one for the output."
   ]
  },
  {
   "cell_type": "code",
   "execution_count": 40,
   "id": "6ec90bf5-f5ee-4fa5-91d0-7c51710670aa",
   "metadata": {},
   "outputs": [
    {
     "name": "stdout",
     "output_type": "stream",
     "text": [
      "response code: 200\n"
     ]
    },
    {
     "data": {
      "text/plain": [
       "{'symbol': 'IBM',\n",
       " 'use_new_data': False,\n",
       " 'n_observations': 4000,\n",
       " 'p': 1,\n",
       " 'q': 1,\n",
       " 'success': True,\n",
       " 'message': 'Trained and saved models\\\\2024-06-12T17_17_30.066173_IBM.pkl. AIC: 13837.79103150345, BIC: 13862.967230063858'}"
      ]
     },
     "execution_count": 40,
     "metadata": {},
     "output_type": "execute_result"
    }
   ],
   "source": [
    "# URL of `/fit` path\n",
    "url = \"http://127.0.0.1:8008/fit\"\n",
    "\n",
    "# Data to send to path\n",
    "json = {\n",
    "    'symbol': 'IBM',\n",
    "    'use_new_data': False,\n",
    "    'n_observations': 4000,\n",
    "    'p': 1,\n",
    "    'q': 1\n",
    "}\n",
    "# Response of post request\n",
    "response = requests.post(url=url, json=json)\n",
    "# Inspect response\n",
    "print(\"response code:\", response.status_code)\n",
    "response.json()"
   ]
  },
  {
   "cell_type": "markdown",
   "id": "f6c1aa13-109a-4b89-af82-70c0eac58335",
   "metadata": {},
   "source": [
    "## \"/predict\" Path"
   ]
  },
  {
   "cell_type": "markdown",
   "id": "37d7f0b8-604a-41d6-9bc2-45a68ea03383",
   "metadata": {},
   "source": [
    "For our \"/predict\" endpoint, users can make a POST request with the ticker symbol for which they want a prediction and the number of days they wish to forecast into the future. Our application will return a forecast or, in case of an error, a message explaining the issue.\n",
    "\n",
    "The setup will be similar to our \"/fit\" endpoint. We'll begin by defining data classes for the input and output."
   ]
  },
  {
   "cell_type": "code",
   "execution_count": 45,
   "id": "6b12cc50-8300-46e7-8633-8948cd49d6ec",
   "metadata": {},
   "outputs": [
    {
     "data": {
      "text/plain": [
       "{'symbol': 'IBM',\n",
       " 'n_days': 5,\n",
       " 'success': True,\n",
       " 'forecast': {'2024-06-12T00:00:00': 1.1390845320453762,\n",
       "  '2024-06-13T00:00:00': 1.1650803585321614,\n",
       "  '2024-06-14T00:00:00': 1.1887719487589206,\n",
       "  '2024-06-17T00:00:00': 1.2104123865448637,\n",
       "  '2024-06-18T00:00:00': 1.2302178002464368},\n",
       " 'message': ''}"
      ]
     },
     "execution_count": 45,
     "metadata": {},
     "output_type": "execute_result"
    }
   ],
   "source": [
    "# URL of `/predict` path\n",
    "url = \"http://localhost:8008/predict\"\n",
    "# Data to send to path\n",
    "json = {\n",
    "    'symbol': 'IBM',\n",
    "    'n_days': 5\n",
    "}\n",
    "# Response of post request\n",
    "response = requests.post(url=url, json=json)\n",
    "# Response JSON to be submitted to grader\n",
    "submission = response.json()\n",
    "# Inspect JSON\n",
    "submission"
   ]
  }
 ],
 "metadata": {
  "kernelspec": {
   "display_name": "Python 3 (ipykernel)",
   "language": "python",
   "name": "python3"
  },
  "language_info": {
   "codemirror_mode": {
    "name": "ipython",
    "version": 3
   },
   "file_extension": ".py",
   "mimetype": "text/x-python",
   "name": "python",
   "nbconvert_exporter": "python",
   "pygments_lexer": "ipython3",
   "version": "3.11.7"
  },
  "widgets": {
   "application/vnd.jupyter.widget-state+json": {
    "state": {},
    "version_major": 2,
    "version_minor": 0
   }
  }
 },
 "nbformat": 4,
 "nbformat_minor": 5
}
